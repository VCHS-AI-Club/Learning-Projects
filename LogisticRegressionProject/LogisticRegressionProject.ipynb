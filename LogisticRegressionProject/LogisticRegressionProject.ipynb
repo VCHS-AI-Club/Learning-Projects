{
  "cells": [
    {
      "cell_type": "code",
      "execution_count": null,
      "metadata": {
        "id": "RsOPZNu38Ayd"
      },
      "outputs": [],
      "source": [
        "import numpy as np\n",
        "import pandas as pd \n",
        "import matplotlib.pyplot as plt\n",
        "from sklearn.model_selection import train_test_split\n",
        "from sklearn.linear_model import LogisticRegression\n",
        "import tensorflow as tf"
      ]
    },
    {
      "cell_type": "code",
      "execution_count": null,
      "metadata": {
        "id": "IgglawIa9Wdf"
      },
      "outputs": [],
      "source": [
        "data = pd.read_csv('weatherAUS.csv')"
      ]
    },
    {
      "cell_type": "code",
      "execution_count": null,
      "metadata": {
        "colab": {
          "base_uri": "https://localhost:8080/",
          "height": 204
        },
        "id": "pji7DEPZ9a7G",
        "outputId": "9791f772-5e23-4774-c662-a09b6f582598"
      },
      "outputs": [],
      "source": [
        "data.dropna(inplace= True)\n",
        "data.drop(['Date', 'Location', 'WindGustDir', 'WindDir9am', 'WindDir3pm'], axis=1, inplace=True)\n",
        "data.head(5)"
      ]
    },
    {
      "cell_type": "code",
      "execution_count": null,
      "metadata": {
        "id": "tcLuwZ4A9c8R"
      },
      "outputs": [],
      "source": [
        "data.RainToday = [1 if each == 'Yes' else 0 for each in data.RainToday]\n",
        "data.RainTomorrow = [1 if each == 'Yes' else 0 for each in data.RainTomorrow]"
      ]
    },
    {
      "cell_type": "code",
      "execution_count": null,
      "metadata": {
        "colab": {
          "base_uri": "https://localhost:8080/",
          "height": 224
        },
        "id": "-r8zzHcH9sSF",
        "outputId": "4dd54f89-1824-4636-9220-f960e91b3537"
      },
      "outputs": [],
      "source": [
        "y = data.RainTomorrow.values\n",
        "x_data = data.drop('RainTomorrow', axis=1)\n",
        "\n",
        "x = (x_data - np.min(x_data)) / (np.max(x_data) - np.min(x_data))\n",
        "x.head(5)\n"
      ]
    },
    {
      "cell_type": "code",
      "execution_count": null,
      "metadata": {
        "id": "uwJVQW3P_sJZ"
      },
      "outputs": [],
      "source": [
        "x_train, x_test, y_train, y_test = train_test_split(x, y, test_size=0.2, random_state=75)\n"
      ]
    },
    {
      "cell_type": "markdown",
      "metadata": {
        "id": "sXSZ7Dyq_0zZ"
      },
      "source": [
        "SKLEARN"
      ]
    },
    {
      "cell_type": "code",
      "execution_count": null,
      "metadata": {
        "colab": {
          "base_uri": "https://localhost:8080/"
        },
        "id": "70KI6Z3s_uZW",
        "outputId": "6ba9f065-6161-423f-c149-2d9ce49ceb8c"
      },
      "outputs": [],
      "source": [
        "from sklearn.linear_model import LogisticRegression\n",
        "\n",
        "# Creating our model named 'lr'\n",
        "lr = LogisticRegression()\n",
        "\n",
        "# Training it by using our train data:\n",
        "lr.fit(x_train, y_train)\n",
        "\n",
        "# Printing our accuracy by using our trained model and test data:\n",
        "print('Test accuracy of sklearn logistic regression library: {}'.format(lr.score(x_test, y_test)))\n",
        "\n",
        "print(lr.predict(x_test))"
      ]
    },
    {
      "cell_type": "markdown",
      "metadata": {
        "id": "J3Pr_qzt2-S0"
      },
      "source": [
        "TENSORFLOW"
      ]
    },
    {
      "cell_type": "code",
      "execution_count": null,
      "metadata": {
        "colab": {
          "base_uri": "https://localhost:8080/"
        },
        "id": "XATqZ0dp3AVr",
        "outputId": "d1dd9c0d-7ba0-4146-ad96-9406f2bc4da0"
      },
      "outputs": [],
      "source": [
        "model = tf.keras.models.Sequential([\n",
        "    tf.keras.layers.InputLayer(input_shape=(15,)),\n",
        "    tf.keras.layers.Dense(16, activation='relu'),\n",
        "    tf.keras.layers.Dense(32, activation='relu'),\n",
        "    tf.keras.layers.Dropout(0.2),\n",
        "    tf.keras.layers.Dense(32, activation='relu'),\n",
        "    tf.keras.layers.Dense(16, activation='relu'),\n",
        "    tf.keras.layers.Dense(1, activation='sigmoid')\n",
        "])\n",
        "# optomizer='adam'\n",
        "model.compile(loss='bce', metrics=['accuracy'])\n",
        "\n",
        "model.fit(x_train, y_train, epochs=100, validation_data=(x_test, y_test))"
      ]
    },
    {
      "cell_type": "code",
      "execution_count": null,
      "metadata": {
        "colab": {
          "base_uri": "https://localhost:8080/"
        },
        "id": "-uFy2Zd0dhCt",
        "outputId": "b4cef351-0eed-4ec2-db83-337bcdfc4fb8"
      },
      "outputs": [],
      "source": [
        "y = model.predict(x_test)\n",
        "\n",
        "y = np.where(y > 0.5, 1, 0)\n",
        "\n",
        "print(y)"
      ]
    }
  ],
  "metadata": {
    "accelerator": "GPU",
    "colab": {
      "collapsed_sections": [],
      "name": "LogisticRegressionProject.ipynb",
      "provenance": []
    },
    "kernelspec": {
      "display_name": "Python 3",
      "name": "python3"
    },
    "language_info": {
      "name": "python"
    }
  },
  "nbformat": 4,
  "nbformat_minor": 0
}
