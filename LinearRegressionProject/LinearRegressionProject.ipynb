{
 "cells": [
  {
   "cell_type": "code",
   "execution_count": null,
   "metadata": {
    "colab": {
     "base_uri": "https://localhost:8080/"
    },
    "id": "97u-LZZJniyr",
    "outputId": "28fac1ff-2af4-45ff-be15-4e782518eca6"
   },
   "outputs": [],
   "source": [
    "# How to install missing libraries\n",
    "import sys\n",
    "!{sys.executable} -m pip install numpy pandas matplotlib tensorflow sklearn\n",
    "\n",
    "import pandas as pd\n",
    "import numpy as np\n",
    "import matplotlib.pyplot as plt\n",
    "import tensorflow as tf\n",
    "from tensorflow.keras.models import Sequential\n",
    "from tensorflow.keras.layers import *\n",
    "from sklearn.preprocessing import StandardScaler\n",
    "from sklearn.model_selection import train_test_split\n",
    "from sklearn.metrics import mean_squared_error\n",
    "from sklearn.linear_model import *\n",
    "from sklearn.ensemble import *\n",
    "df: pd.DataFrame = pd.read_csv(\"weatherHistory.csv\")\n",
    "df.dropna()\n",
    "df: pd.DataFrame = df.drop(['Formatted Date', 'Summary', 'Daily Summary', 'Precip Type'], axis = 1)\n",
    "print(df.head(5))"
   ]
  },
  {
   "cell_type": "code",
   "execution_count": null,
   "metadata": {
    "id": "hh1oo-2asQS3"
   },
   "outputs": [],
   "source": [
    "X: pd.DataFrame = df[['Temperature (C)', 'Apparent Temperature (C)', 'Humidity', 'Wind Speed (km/h)', 'Wind Bearing (degrees)', 'Loud Cover', 'Pressure (millibars)']].values\n",
    "y: np.ndarray = df['Visibility (km)'].values\n",
    "\n",
    "myX: np.ndarray = np.array([9.37777778e+00, 9.37777778e+00, 8.90000000e-01, 3.92840000e+00,\n",
    "        2.04000000e+02, 0.00000000e+00, 1.01594000e+03])\n",
    "\n",
    "myX: np.ndarray = np.reshape(myX, (1, -1))\n",
    "\n",
    "scaler: StandardScaler = StandardScaler()\n",
    "Xs: np.ndarray = scaler.fit_transform(X)\n",
    "myXs: np.ndarray = scaler.transform(myX)"
   ]
  },
  {
   "cell_type": "code",
   "execution_count": null,
   "metadata": {
    "colab": {
     "base_uri": "https://localhost:8080/"
    },
    "id": "6553Fmj7RcnU",
    "outputId": "e647ec5f-0471-477f-c51a-774b3ae46f80"
   },
   "outputs": [],
   "source": [
    "print(f\"Testing X samples: {X[2]}, Testing Y Value: {y[2]}\")"
   ]
  },
  {
   "cell_type": "code",
   "execution_count": null,
   "metadata": {
    "id": "bDsbCf3huVaK"
   },
   "outputs": [],
   "source": [
    "X_train, X_val, y_train, y_val = train_test_split(Xs, y, test_size=0.2)"
   ]
  },
  {
   "cell_type": "markdown",
   "metadata": {
    "id": "jyv3oUcrMJot"
   },
   "source": [
    "### SKLEARN"
   ]
  },
  {
   "cell_type": "code",
   "execution_count": null,
   "metadata": {
    "id": "mpvmDFW1MIbN"
   },
   "outputs": [],
   "source": [
    "reg: GradientBoostingRegressor = GradientBoostingRegressor()\n",
    "reg: GradientBoostingRegressor = reg.fit(X_train, y_train)"
   ]
  },
  {
   "cell_type": "code",
   "execution_count": null,
   "metadata": {
    "colab": {
     "base_uri": "https://localhost:8080/"
    },
    "id": "ZaR3Of49NFkv",
    "outputId": "5f71a931-dd3a-49d2-e0dd-217a189415dc"
   },
   "outputs": [],
   "source": [
    "yTrainPred: np.dnarray = reg.predict(X_train)\n",
    "yValPred: np.dnarray = reg.predict(X_val)\n",
    "yTestPred: np.dnarray = reg.predict(myXs)\n",
    "print(f\"Training MSE: {mean_squared_error(y_train, yTrainPred)}\")\n",
    "print(f\"Validation MSE: {mean_squared_error(y_val, yValPred)}\")\n",
    "print(f\"Test Prediction SKLEARN: {yTestPred}\")"
   ]
  },
  {
   "cell_type": "markdown",
   "metadata": {
    "id": "6gyNFiOnMMCl"
   },
   "source": [
    "### TENSORFLOW"
   ]
  },
  {
   "cell_type": "code",
   "execution_count": null,
   "metadata": {
    "colab": {
     "base_uri": "https://localhost:8080/"
    },
    "id": "dNX8JF2Zuwns",
    "outputId": "6ad935b8-ab4c-4f7f-ca1c-975f990f3996"
   },
   "outputs": [],
   "source": [
    "model: Sequential = Sequential([\n",
    "    Dense(32, activation='relu', input_shape=(7,)),\n",
    "    Dense(32, activation='relu'),\n",
    "    Dense(32, activation='relu'),\n",
    "    Dense(1, activation='linear')\n",
    "])\n",
    "\n",
    "model.compile(\n",
    "    optimizer='adam',\n",
    "    loss='mean_squared_error',\n",
    "    metrics=['mse', 'mae']\n",
    ") \n",
    "\n",
    "model.summary()"
   ]
  },
  {
   "cell_type": "code",
   "execution_count": null,
   "metadata": {
    "colab": {
     "base_uri": "https://localhost:8080/"
    },
    "id": "8HjFZq48vH2Y",
    "outputId": "d632c27f-3e4b-4d54-d078-fb23baf5962c"
   },
   "outputs": [],
   "source": [
    "history: History = model.fit(X_train, y_train, validation_data=(X_val, y_val), epochs=30, batch_size=32, workers=32)\n"
   ]
  },
  {
   "cell_type": "code",
   "execution_count": 22,
   "metadata": {
    "colab": {
     "base_uri": "https://localhost:8080/"
    },
    "id": "1TLFnx58VPZt",
    "outputId": "c0993bd3-f2e8-4e0a-c0c4-d1ba1aa5f0ac"
   },
   "outputs": [
    {
     "name": "stdout",
     "output_type": "stream",
     "text": [
      "Test Prediction TENSORFLOW KERAS: [[11.270715]]\n"
     ]
    }
   ],
   "source": [
    "yTestPred: list[np.array] = model.predict(myXs)\n",
    "print(f\"Test Prediction TENSORFLOW KERAS: {yTestPred}\")"
   ]
  }
 ],
 "metadata": {
  "accelerator": "GPU",
  "colab": {
   "collapsed_sections": [],
   "name": "AIClubRegressionProject.ipynb",
   "provenance": []
  },
  "kernelspec": {
   "display_name": "Python 3 (ipykernel)",
   "language": "python",
   "name": "python3"
  },
  "language_info": {
   "codemirror_mode": {
    "name": "ipython",
    "version": 3
   },
   "file_extension": ".py",
   "mimetype": "text/x-python",
   "name": "python",
   "nbconvert_exporter": "python",
   "pygments_lexer": "ipython3",
   "version": "3.9.6"
  }
 },
 "nbformat": 4,
 "nbformat_minor": 1
}
