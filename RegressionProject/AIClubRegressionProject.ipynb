{
  "nbformat": 4,
  "nbformat_minor": 0,
  "metadata": {
    "accelerator": "GPU",
    "colab": {
      "name": "AIClubRegressionProject.ipynb",
      "provenance": [],
      "collapsed_sections": []
    },
    "kernelspec": {
      "display_name": "Python 3",
      "name": "python3"
    },
    "language_info": {
      "name": "python"
    }
  },
  "cells": [
    {
      "cell_type": "code",
      "metadata": {
        "colab": {
          "base_uri": "https://localhost:8080/"
        },
        "id": "97u-LZZJniyr",
        "outputId": "28fac1ff-2af4-45ff-be15-4e782518eca6"
      },
      "source": [
        "import pandas as pd\n",
        "import numpy as np\n",
        "import matplotlib.pyplot as plt\n",
        "import tensorflow as tf\n",
        "from tensorflow.keras.models import Sequential\n",
        "from tensorflow.keras.layers import *\n",
        "from sklearn.preprocessing import StandardScaler\n",
        "from sklearn.model_selection import train_test_split\n",
        "from sklearn.metrics import mean_squared_error\n",
        "from sklearn.linear_model import *\n",
        "from sklearn.ensemble import *\n",
        "df = pd.read_csv(\"weatherHistory.csv\")\n",
        "df.dropna()\n",
        "df = df.drop(['Formatted Date', 'Summary', 'Daily Summary', 'Precip Type'], axis = 1)\n",
        "print(df.head(5))"
      ],
      "execution_count": 41,
      "outputs": [
        {
          "output_type": "stream",
          "text": [
            "   Temperature (C)  Apparent Temperature (C)  ...  Loud Cover  Pressure (millibars)\n",
            "0         9.472222                  7.388889  ...         0.0               1015.13\n",
            "1         9.355556                  7.227778  ...         0.0               1015.63\n",
            "2         9.377778                  9.377778  ...         0.0               1015.94\n",
            "3         8.288889                  5.944444  ...         0.0               1016.41\n",
            "4         8.755556                  6.977778  ...         0.0               1016.51\n",
            "\n",
            "[5 rows x 8 columns]\n"
          ],
          "name": "stdout"
        }
      ]
    },
    {
      "cell_type": "code",
      "metadata": {
        "id": "hh1oo-2asQS3"
      },
      "source": [
        "X = df[['Temperature (C)', 'Apparent Temperature (C)', 'Humidity', 'Wind Speed (km/h)', 'Wind Bearing (degrees)', 'Loud Cover', 'Pressure (millibars)']].values\n",
        "y = df['Visibility (km)'].values\n",
        "\n",
        "myX = np.array([9.37777778e+00, 9.37777778e+00, 8.90000000e-01, 3.92840000e+00,\n",
        "        2.04000000e+02, 0.00000000e+00, 1.01594000e+03])\n",
        "\n",
        "myX = np.reshape(myX, (1, -1))\n",
        "\n",
        "scaler = StandardScaler()\n",
        "Xs = scaler.fit_transform(X)\n",
        "myXs = scaler.transform(myX)"
      ],
      "execution_count": 42,
      "outputs": []
    },
    {
      "cell_type": "code",
      "metadata": {
        "colab": {
          "base_uri": "https://localhost:8080/"
        },
        "id": "6553Fmj7RcnU",
        "outputId": "e647ec5f-0471-477f-c51a-774b3ae46f80"
      },
      "source": [
        "print(f\"Testing X samples: {X[2]}, Testing Y Value: {y[2]}\")"
      ],
      "execution_count": 43,
      "outputs": [
        {
          "output_type": "stream",
          "text": [
            "Testing X samples: [9.37777778e+00 9.37777778e+00 8.90000000e-01 3.92840000e+00\n",
            " 2.04000000e+02 0.00000000e+00 1.01594000e+03], Testing Y Value: 14.9569\n"
          ],
          "name": "stdout"
        }
      ]
    },
    {
      "cell_type": "code",
      "metadata": {
        "id": "bDsbCf3huVaK"
      },
      "source": [
        "X_train, X_val, y_train, y_val = train_test_split(Xs, y, test_size=0.2)"
      ],
      "execution_count": 44,
      "outputs": []
    },
    {
      "cell_type": "markdown",
      "metadata": {
        "id": "jyv3oUcrMJot"
      },
      "source": [
        "SKLEARN"
      ]
    },
    {
      "cell_type": "code",
      "metadata": {
        "id": "mpvmDFW1MIbN"
      },
      "source": [
        "reg = GradientBoostingRegressor()\n",
        "reg = reg.fit(X_train, y_train)"
      ],
      "execution_count": 45,
      "outputs": []
    },
    {
      "cell_type": "code",
      "metadata": {
        "colab": {
          "base_uri": "https://localhost:8080/"
        },
        "id": "ZaR3Of49NFkv",
        "outputId": "5f71a931-dd3a-49d2-e0dd-217a189415dc"
      },
      "source": [
        "yTrainPred = reg.predict(X_train)\n",
        "yValPred = reg.predict(X_val)\n",
        "yTestPred = reg.predict(myXs)\n",
        "print(f\"Training MSE: {mean_squared_error(y_train, yTrainPred)}\")\n",
        "print(f\"Validation MSE: {mean_squared_error(y_val, yValPred)}\")\n",
        "print(f\"Test Prediction SKLEARN: {yTestPred}\")"
      ],
      "execution_count": 46,
      "outputs": [
        {
          "output_type": "stream",
          "text": [
            "Training MSE: 8.981328210322218\n",
            "Validation MSE: 9.183414530994847\n",
            "Test Prediction SKLEARN: [11.22524702]\n"
          ],
          "name": "stdout"
        }
      ]
    },
    {
      "cell_type": "markdown",
      "metadata": {
        "id": "6gyNFiOnMMCl"
      },
      "source": [
        "TENSORFLOW"
      ]
    },
    {
      "cell_type": "code",
      "metadata": {
        "colab": {
          "base_uri": "https://localhost:8080/"
        },
        "id": "dNX8JF2Zuwns",
        "outputId": "6ad935b8-ab4c-4f7f-ca1c-975f990f3996"
      },
      "source": [
        "model = Sequential([\n",
        "    Dense(32, activation='relu', input_shape=(7,)),\n",
        "    Dense(32, activation='relu'),\n",
        "    Dense(32, activation='relu'),\n",
        "    Dense(1, activation='linear')\n",
        "])\n",
        "\n",
        "model.compile(\n",
        "    optimizer='adam',\n",
        "    loss='mean_squared_error',\n",
        "    metrics=['mse', 'mae']\n",
        ") \n",
        "\n",
        "model.summary()"
      ],
      "execution_count": 47,
      "outputs": [
        {
          "output_type": "stream",
          "text": [
            "Model: \"sequential_4\"\n",
            "_________________________________________________________________\n",
            "Layer (type)                 Output Shape              Param #   \n",
            "=================================================================\n",
            "dense_16 (Dense)             (None, 32)                256       \n",
            "_________________________________________________________________\n",
            "dense_17 (Dense)             (None, 32)                1056      \n",
            "_________________________________________________________________\n",
            "dense_18 (Dense)             (None, 32)                1056      \n",
            "_________________________________________________________________\n",
            "dense_19 (Dense)             (None, 1)                 33        \n",
            "=================================================================\n",
            "Total params: 2,401\n",
            "Trainable params: 2,401\n",
            "Non-trainable params: 0\n",
            "_________________________________________________________________\n"
          ],
          "name": "stdout"
        }
      ]
    },
    {
      "cell_type": "code",
      "metadata": {
        "colab": {
          "base_uri": "https://localhost:8080/"
        },
        "id": "8HjFZq48vH2Y",
        "outputId": "d632c27f-3e4b-4d54-d078-fb23baf5962c"
      },
      "source": [
        "history = model.fit(X_train, y_train, validation_data=(X_val, y_val), epochs=30, batch_size=32, workers=32)\n"
      ],
      "execution_count": 48,
      "outputs": [
        {
          "output_type": "stream",
          "text": [
            "Epoch 1/30\n",
            "2412/2412 [==============================] - 8s 3ms/step - loss: 14.5319 - mse: 14.5319 - mae: 2.9915 - val_loss: 9.9835 - val_mse: 9.9835 - val_mae: 2.6293\n",
            "Epoch 2/30\n",
            "2412/2412 [==============================] - 7s 3ms/step - loss: 9.9491 - mse: 9.9491 - mae: 2.6038 - val_loss: 10.0204 - val_mse: 10.0204 - val_mae: 2.5110\n",
            "Epoch 3/30\n",
            "2412/2412 [==============================] - 7s 3ms/step - loss: 9.8544 - mse: 9.8544 - mae: 2.5921 - val_loss: 10.1447 - val_mse: 10.1447 - val_mae: 2.6904\n",
            "Epoch 4/30\n",
            "2412/2412 [==============================] - 6s 3ms/step - loss: 9.8055 - mse: 9.8055 - mae: 2.5848 - val_loss: 9.8855 - val_mse: 9.8855 - val_mae: 2.6649\n",
            "Epoch 5/30\n",
            "2412/2412 [==============================] - 7s 3ms/step - loss: 9.7546 - mse: 9.7546 - mae: 2.5745 - val_loss: 9.7638 - val_mse: 9.7638 - val_mae: 2.5943\n",
            "Epoch 6/30\n",
            "2412/2412 [==============================] - 6s 3ms/step - loss: 9.7449 - mse: 9.7449 - mae: 2.5755 - val_loss: 9.8994 - val_mse: 9.8994 - val_mae: 2.6279\n",
            "Epoch 7/30\n",
            "2412/2412 [==============================] - 6s 3ms/step - loss: 9.7080 - mse: 9.7080 - mae: 2.5695 - val_loss: 9.7553 - val_mse: 9.7553 - val_mae: 2.5392\n",
            "Epoch 8/30\n",
            "2412/2412 [==============================] - 7s 3ms/step - loss: 9.6966 - mse: 9.6966 - mae: 2.5668 - val_loss: 9.9830 - val_mse: 9.9830 - val_mae: 2.6837\n",
            "Epoch 9/30\n",
            "2412/2412 [==============================] - 7s 3ms/step - loss: 9.6733 - mse: 9.6733 - mae: 2.5617 - val_loss: 9.7180 - val_mse: 9.7180 - val_mae: 2.5542\n",
            "Epoch 10/30\n",
            "2412/2412 [==============================] - 7s 3ms/step - loss: 9.6284 - mse: 9.6284 - mae: 2.5565 - val_loss: 9.6819 - val_mse: 9.6819 - val_mae: 2.5096\n",
            "Epoch 11/30\n",
            "2412/2412 [==============================] - 7s 3ms/step - loss: 9.6199 - mse: 9.6199 - mae: 2.5532 - val_loss: 9.6437 - val_mse: 9.6437 - val_mae: 2.5762\n",
            "Epoch 12/30\n",
            "2412/2412 [==============================] - 7s 3ms/step - loss: 9.5939 - mse: 9.5939 - mae: 2.5472 - val_loss: 9.7150 - val_mse: 9.7150 - val_mae: 2.5333\n",
            "Epoch 13/30\n",
            "2412/2412 [==============================] - 6s 3ms/step - loss: 9.5483 - mse: 9.5483 - mae: 2.5412 - val_loss: 9.6525 - val_mse: 9.6525 - val_mae: 2.5733\n",
            "Epoch 14/30\n",
            "2412/2412 [==============================] - 6s 3ms/step - loss: 9.5366 - mse: 9.5366 - mae: 2.5380 - val_loss: 9.5993 - val_mse: 9.5993 - val_mae: 2.5109\n",
            "Epoch 15/30\n",
            "2412/2412 [==============================] - 6s 3ms/step - loss: 9.5252 - mse: 9.5252 - mae: 2.5369 - val_loss: 9.5421 - val_mse: 9.5421 - val_mae: 2.5276\n",
            "Epoch 16/30\n",
            "2412/2412 [==============================] - 6s 3ms/step - loss: 9.4990 - mse: 9.4990 - mae: 2.5305 - val_loss: 9.7003 - val_mse: 9.7003 - val_mae: 2.4893\n",
            "Epoch 17/30\n",
            "2412/2412 [==============================] - 6s 3ms/step - loss: 9.4813 - mse: 9.4813 - mae: 2.5287 - val_loss: 9.5063 - val_mse: 9.5063 - val_mae: 2.5265\n",
            "Epoch 18/30\n",
            "2412/2412 [==============================] - 7s 3ms/step - loss: 9.4501 - mse: 9.4501 - mae: 2.5227 - val_loss: 9.5030 - val_mse: 9.5030 - val_mae: 2.5214\n",
            "Epoch 19/30\n",
            "2412/2412 [==============================] - 7s 3ms/step - loss: 9.4524 - mse: 9.4524 - mae: 2.5221 - val_loss: 9.4966 - val_mse: 9.4966 - val_mae: 2.5015\n",
            "Epoch 20/30\n",
            "2412/2412 [==============================] - 7s 3ms/step - loss: 9.4333 - mse: 9.4333 - mae: 2.5159 - val_loss: 9.5872 - val_mse: 9.5872 - val_mae: 2.5885\n",
            "Epoch 21/30\n",
            "2412/2412 [==============================] - 7s 3ms/step - loss: 9.4285 - mse: 9.4285 - mae: 2.5162 - val_loss: 9.5266 - val_mse: 9.5266 - val_mae: 2.4858\n",
            "Epoch 22/30\n",
            "2412/2412 [==============================] - 6s 3ms/step - loss: 9.4158 - mse: 9.4158 - mae: 2.5141 - val_loss: 9.6127 - val_mse: 9.6127 - val_mae: 2.5278\n",
            "Epoch 23/30\n",
            "2412/2412 [==============================] - 6s 3ms/step - loss: 9.4037 - mse: 9.4037 - mae: 2.5105 - val_loss: 9.4612 - val_mse: 9.4612 - val_mae: 2.5111\n",
            "Epoch 24/30\n",
            "2412/2412 [==============================] - 7s 3ms/step - loss: 9.3837 - mse: 9.3837 - mae: 2.5085 - val_loss: 9.5159 - val_mse: 9.5159 - val_mae: 2.4731\n",
            "Epoch 25/30\n",
            "2412/2412 [==============================] - 7s 3ms/step - loss: 9.3822 - mse: 9.3822 - mae: 2.5064 - val_loss: 9.5241 - val_mse: 9.5241 - val_mae: 2.4770\n",
            "Epoch 26/30\n",
            "2412/2412 [==============================] - 6s 3ms/step - loss: 9.3662 - mse: 9.3662 - mae: 2.5037 - val_loss: 9.5965 - val_mse: 9.5965 - val_mae: 2.4458\n",
            "Epoch 27/30\n",
            "2412/2412 [==============================] - 7s 3ms/step - loss: 9.3407 - mse: 9.3407 - mae: 2.5011 - val_loss: 9.4576 - val_mse: 9.4576 - val_mae: 2.4876\n",
            "Epoch 28/30\n",
            "2412/2412 [==============================] - 7s 3ms/step - loss: 9.3515 - mse: 9.3515 - mae: 2.4990 - val_loss: 9.4383 - val_mse: 9.4383 - val_mae: 2.5302\n",
            "Epoch 29/30\n",
            "2412/2412 [==============================] - 7s 3ms/step - loss: 9.3387 - mse: 9.3387 - mae: 2.4986 - val_loss: 9.4107 - val_mse: 9.4107 - val_mae: 2.5056\n",
            "Epoch 30/30\n",
            "2412/2412 [==============================] - 7s 3ms/step - loss: 9.3205 - mse: 9.3205 - mae: 2.4937 - val_loss: 9.4429 - val_mse: 9.4429 - val_mae: 2.5493\n"
          ],
          "name": "stdout"
        }
      ]
    },
    {
      "cell_type": "code",
      "metadata": {
        "colab": {
          "base_uri": "https://localhost:8080/"
        },
        "id": "1TLFnx58VPZt",
        "outputId": "c0993bd3-f2e8-4e0a-c0c4-d1ba1aa5f0ac"
      },
      "source": [
        "yTestPred = model.predict(myXs)\n",
        "print(f\"Test Prediction TENSORFLOW KERAS: {yTestPred}\")"
      ],
      "execution_count": 49,
      "outputs": [
        {
          "output_type": "stream",
          "text": [
            "Test Prediction TENSORFLOW KERAS: [[10.979892]]\n"
          ],
          "name": "stdout"
        }
      ]
    }
  ]
}