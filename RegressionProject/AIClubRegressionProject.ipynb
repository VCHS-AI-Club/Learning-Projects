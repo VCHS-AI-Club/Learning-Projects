{
  "nbformat": 4,
  "nbformat_minor": 0,
  "metadata": {
    "accelerator": "GPU",
    "colab": {
      "name": "AIClubRegressionProject.ipynb",
      "provenance": [],
      "collapsed_sections": []
    },
    "kernelspec": {
      "display_name": "Python 3",
      "name": "python3"
    },
    "language_info": {
      "name": "python"
    }
  },
  "cells": [
    {
      "cell_type": "code",
      "metadata": {
        "colab": {
          "base_uri": "https://localhost:8080/"
        },
        "id": "97u-LZZJniyr",
        "outputId": "910c93ef-1c72-4bcc-fb28-a7a0d232eaa8"
      },
      "source": [
        "import pandas as pd\n",
        "import numpy as np\n",
        "import matplotlib.pyplot as plt\n",
        "import tensorflow as tf\n",
        "from tensorflow.keras.models import Sequential\n",
        "from tensorflow.keras.layers import *\n",
        "from sklearn.preprocessing import StandardScaler\n",
        "from sklearn.model_selection import train_test_split\n",
        "from sklearn.metrics import mean_squared_error\n",
        "from sklearn.ensemble import GradientBoostingRegressor\n",
        "df = pd.read_csv(\"https://raw.githubusercontent.com/akhil-datla/AIClub2021-2022/main/RegressionProject/weatherHistory.csv\")\n",
        "df.dropna()\n",
        "df = df.drop(['Formatted Date', 'Summary', 'Daily Summary', 'Precip Type'], axis = 1)\n",
        "print(df.head(5))"
      ],
      "execution_count": 16,
      "outputs": [
        {
          "output_type": "stream",
          "text": [
            "   Temperature (C)  Apparent Temperature (C)  ...  Loud Cover  Pressure (millibars)\n",
            "0         9.472222                  7.388889  ...         0.0               1015.13\n",
            "1         9.355556                  7.227778  ...         0.0               1015.63\n",
            "2         9.377778                  9.377778  ...         0.0               1015.94\n",
            "3         8.288889                  5.944444  ...         0.0               1016.41\n",
            "4         8.755556                  6.977778  ...         0.0               1016.51\n",
            "\n",
            "[5 rows x 8 columns]\n"
          ],
          "name": "stdout"
        }
      ]
    },
    {
      "cell_type": "code",
      "metadata": {
        "id": "hh1oo-2asQS3"
      },
      "source": [
        "X = df[['Temperature (C)', 'Apparent Temperature (C)', 'Humidity', 'Wind Speed (km/h)', 'Wind Bearing (degrees)', 'Loud Cover', 'Pressure (millibars)']].values\n",
        "y = df['Visibility (km)'].values\n",
        "scaler = StandardScaler()\n",
        "Xs = scaler.fit_transform(X)"
      ],
      "execution_count": 17,
      "outputs": []
    },
    {
      "cell_type": "code",
      "metadata": {
        "id": "bDsbCf3huVaK"
      },
      "source": [
        "X_train, X_val, y_train, y_val = train_test_split(Xs, y, test_size=0.2)"
      ],
      "execution_count": 18,
      "outputs": []
    },
    {
      "cell_type": "markdown",
      "metadata": {
        "id": "jyv3oUcrMJot"
      },
      "source": [
        "SKLEARN"
      ]
    },
    {
      "cell_type": "code",
      "metadata": {
        "id": "mpvmDFW1MIbN"
      },
      "source": [
        "reg = GradientBoostingRegressor()\n",
        "reg = reg.fit(X_train, y_train)"
      ],
      "execution_count": 19,
      "outputs": []
    },
    {
      "cell_type": "code",
      "metadata": {
        "colab": {
          "base_uri": "https://localhost:8080/"
        },
        "id": "ZaR3Of49NFkv",
        "outputId": "c8173879-7a98-4344-b514-e34c1b8be0ff"
      },
      "source": [
        "yTrainPred = reg.predict(X_train)\n",
        "yValPred = reg.predict(X_val)\n",
        "print(f\"Training MSE: {mean_squared_error(y_train, yTrainPred)}\")\n",
        "print(f\"Validation MSE: {mean_squared_error(y_val, yValPred)}\")"
      ],
      "execution_count": 20,
      "outputs": [
        {
          "output_type": "stream",
          "text": [
            "Training MSE: 9.018351116184894\n",
            "Validation MSE: 9.035741089801766\n"
          ],
          "name": "stdout"
        }
      ]
    },
    {
      "cell_type": "markdown",
      "metadata": {
        "id": "6gyNFiOnMMCl"
      },
      "source": [
        "TENSORFLOW"
      ]
    },
    {
      "cell_type": "code",
      "metadata": {
        "colab": {
          "base_uri": "https://localhost:8080/"
        },
        "id": "dNX8JF2Zuwns",
        "outputId": "4fdb04e0-84de-454c-ce44-7cc535dbe649"
      },
      "source": [
        "model = Sequential([\n",
        "    Dense(32, activation='relu', input_shape=(7,)),\n",
        "    Dense(32, activation='relu'),\n",
        "    Dense(32, activation='relu'),\n",
        "    Dense(1, activation='linear')\n",
        "])\n",
        "\n",
        "model.compile(\n",
        "    optimizer='adam',\n",
        "    loss='mean_squared_error',\n",
        "    metrics=['mse', 'mae']\n",
        ") \n",
        "\n",
        "model.summary()"
      ],
      "execution_count": 21,
      "outputs": [
        {
          "output_type": "stream",
          "text": [
            "Model: \"sequential_2\"\n",
            "_________________________________________________________________\n",
            "Layer (type)                 Output Shape              Param #   \n",
            "=================================================================\n",
            "dense_8 (Dense)              (None, 32)                256       \n",
            "_________________________________________________________________\n",
            "dense_9 (Dense)              (None, 32)                1056      \n",
            "_________________________________________________________________\n",
            "dense_10 (Dense)             (None, 32)                1056      \n",
            "_________________________________________________________________\n",
            "dense_11 (Dense)             (None, 1)                 33        \n",
            "=================================================================\n",
            "Total params: 2,401\n",
            "Trainable params: 2,401\n",
            "Non-trainable params: 0\n",
            "_________________________________________________________________\n"
          ],
          "name": "stdout"
        }
      ]
    },
    {
      "cell_type": "code",
      "metadata": {
        "colab": {
          "base_uri": "https://localhost:8080/"
        },
        "id": "8HjFZq48vH2Y",
        "outputId": "18673e27-3723-493e-be3e-0b4d2e42503d"
      },
      "source": [
        "history = model.fit(X_train, y_train, validation_data=(X_val, y_val), epochs=20, batch_size=32, workers=32)"
      ],
      "execution_count": 22,
      "outputs": [
        {
          "output_type": "stream",
          "text": [
            "Epoch 1/20\n",
            "2412/2412 [==============================] - 7s 3ms/step - loss: 14.8904 - mse: 14.8904 - mae: 3.0278 - val_loss: 9.9074 - val_mse: 9.9074 - val_mae: 2.6006\n",
            "Epoch 2/20\n",
            "2412/2412 [==============================] - 6s 3ms/step - loss: 9.9758 - mse: 9.9758 - mae: 2.6108 - val_loss: 9.9549 - val_mse: 9.9549 - val_mae: 2.6216\n",
            "Epoch 3/20\n",
            "2412/2412 [==============================] - 7s 3ms/step - loss: 9.8811 - mse: 9.8811 - mae: 2.5968 - val_loss: 9.7749 - val_mse: 9.7749 - val_mae: 2.5990\n",
            "Epoch 4/20\n",
            "2412/2412 [==============================] - 7s 3ms/step - loss: 9.8376 - mse: 9.8376 - mae: 2.5900 - val_loss: 9.7074 - val_mse: 9.7074 - val_mae: 2.5900\n",
            "Epoch 5/20\n",
            "2412/2412 [==============================] - 7s 3ms/step - loss: 9.7947 - mse: 9.7947 - mae: 2.5837 - val_loss: 9.8840 - val_mse: 9.8840 - val_mae: 2.5633\n",
            "Epoch 6/20\n",
            "2412/2412 [==============================] - 7s 3ms/step - loss: 9.7754 - mse: 9.7754 - mae: 2.5781 - val_loss: 9.7225 - val_mse: 9.7225 - val_mae: 2.5881\n",
            "Epoch 7/20\n",
            "2412/2412 [==============================] - 7s 3ms/step - loss: 9.7639 - mse: 9.7639 - mae: 2.5773 - val_loss: 9.9784 - val_mse: 9.9784 - val_mae: 2.4670\n",
            "Epoch 8/20\n",
            "2412/2412 [==============================] - 7s 3ms/step - loss: 9.7289 - mse: 9.7289 - mae: 2.5710 - val_loss: 9.9097 - val_mse: 9.9097 - val_mae: 2.6674\n",
            "Epoch 9/20\n",
            "2412/2412 [==============================] - 6s 3ms/step - loss: 9.7242 - mse: 9.7242 - mae: 2.5711 - val_loss: 9.6738 - val_mse: 9.6738 - val_mae: 2.5344\n",
            "Epoch 10/20\n",
            "2412/2412 [==============================] - 6s 3ms/step - loss: 9.7005 - mse: 9.7005 - mae: 2.5673 - val_loss: 9.7455 - val_mse: 9.7455 - val_mae: 2.4918\n",
            "Epoch 11/20\n",
            "2412/2412 [==============================] - 7s 3ms/step - loss: 9.6798 - mse: 9.6798 - mae: 2.5652 - val_loss: 9.5717 - val_mse: 9.5717 - val_mae: 2.5535\n",
            "Epoch 12/20\n",
            "2412/2412 [==============================] - 7s 3ms/step - loss: 9.6731 - mse: 9.6731 - mae: 2.5606 - val_loss: 9.6479 - val_mse: 9.6479 - val_mae: 2.5744\n",
            "Epoch 13/20\n",
            "2412/2412 [==============================] - 6s 3ms/step - loss: 9.6361 - mse: 9.6361 - mae: 2.5592 - val_loss: 9.8123 - val_mse: 9.8123 - val_mae: 2.4878\n",
            "Epoch 14/20\n",
            "2412/2412 [==============================] - 7s 3ms/step - loss: 9.6076 - mse: 9.6076 - mae: 2.5521 - val_loss: 9.6038 - val_mse: 9.6038 - val_mae: 2.5732\n",
            "Epoch 15/20\n",
            "2412/2412 [==============================] - 7s 3ms/step - loss: 9.5867 - mse: 9.5867 - mae: 2.5477 - val_loss: 9.4865 - val_mse: 9.4865 - val_mae: 2.5562\n",
            "Epoch 16/20\n",
            "2412/2412 [==============================] - 7s 3ms/step - loss: 9.5693 - mse: 9.5693 - mae: 2.5450 - val_loss: 9.6458 - val_mse: 9.6458 - val_mae: 2.6158\n",
            "Epoch 17/20\n",
            "2412/2412 [==============================] - 7s 3ms/step - loss: 9.5514 - mse: 9.5514 - mae: 2.5410 - val_loss: 9.4919 - val_mse: 9.4919 - val_mae: 2.5694\n",
            "Epoch 18/20\n",
            "2412/2412 [==============================] - 6s 3ms/step - loss: 9.5065 - mse: 9.5065 - mae: 2.5316 - val_loss: 9.4754 - val_mse: 9.4754 - val_mae: 2.5410\n",
            "Epoch 19/20\n",
            "2412/2412 [==============================] - 7s 3ms/step - loss: 9.4592 - mse: 9.4592 - mae: 2.5222 - val_loss: 9.3577 - val_mse: 9.3577 - val_mae: 2.5112\n",
            "Epoch 20/20\n",
            "2412/2412 [==============================] - 7s 3ms/step - loss: 9.4303 - mse: 9.4303 - mae: 2.5144 - val_loss: 9.5080 - val_mse: 9.5080 - val_mae: 2.4208\n"
          ],
          "name": "stdout"
        }
      ]
    }
  ]
}