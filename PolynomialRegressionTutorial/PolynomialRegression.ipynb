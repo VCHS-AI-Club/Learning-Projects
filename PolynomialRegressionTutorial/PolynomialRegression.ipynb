{
  "nbformat": 4,
  "nbformat_minor": 0,
  "metadata": {
    "colab": {
      "name": "PolynomialRegression.ipynb",
      "provenance": []
    },
    "kernelspec": {
      "name": "python3",
      "display_name": "Python 3"
    },
    "language_info": {
      "name": "python"
    }
  },
  "cells": [
    {
      "cell_type": "code",
      "metadata": {
        "id": "wCwbeQA1VxM9"
      },
      "source": [
        "import numpy as np\n",
        "import matplotlib.pyplot as plt\n",
        "from sklearn.preprocessing import PolynomialFeatures\n",
        "from sklearn.linear_model import LinearRegression\n",
        "from sklearn.metrics import mean_squared_error"
      ],
      "execution_count": 20,
      "outputs": []
    },
    {
      "cell_type": "code",
      "metadata": {
        "colab": {
          "base_uri": "https://localhost:8080/",
          "height": 282
        },
        "id": "jiTH7_ZBWD_q",
        "outputId": "cd89cd52-c666-425f-fc5c-db8e0755c9c7"
      },
      "source": [
        "x = np.linspace(-1, 1, num=50)\n",
        "\n",
        "x = np.reshape(x, (1, -1))\n",
        "\n",
        "y = x ** 2\n",
        "\n",
        "plt.scatter(x, y)"
      ],
      "execution_count": 21,
      "outputs": [
        {
          "output_type": "execute_result",
          "data": {
            "text/plain": [
              "<matplotlib.collections.PathCollection at 0x7fcf6bc9b690>"
            ]
          },
          "metadata": {
            "tags": []
          },
          "execution_count": 21
        },
        {
          "output_type": "display_data",
          "data": {
            "image/png": "[encoded data removed]",
            "text/plain": [
              "<Figure size 432x288 with 1 Axes>"
            ]
          },
          "metadata": {
            "tags": [],
            "needs_background": "light"
          }
        }
      ]
    },
    {
      "cell_type": "code",
      "metadata": {
        "colab": {
          "base_uri": "https://localhost:8080/"
        },
        "id": "sykwSgCmWet0",
        "outputId": "4456555b-ff87-4c7c-e6c4-92761e6737f7"
      },
      "source": [
        "poly = PolynomialFeatures(2)\n",
        "\n",
        "polyX = poly.fit_transform(x, y)\n",
        "\n",
        "reg = LinearRegression(fit_intercept=True)\n",
        "\n",
        "reg = reg.fit(polyX, y)\n",
        "\n",
        "yPred = reg.predict(polyX)\n",
        "\n",
        "print(f\"MSE: {mean_squared_error(y, yPred)}\")\n"
      ],
      "execution_count": 22,
      "outputs": [
        {
          "output_type": "stream",
          "text": [
            "MSE: 0.0\n"
          ],
          "name": "stdout"
        }
      ]
    }
  ]
}